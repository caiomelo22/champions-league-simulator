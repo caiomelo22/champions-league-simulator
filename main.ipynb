{
 "cells": [
  {
   "cell_type": "code",
   "execution_count": 1,
   "id": "c97aa991",
   "metadata": {},
   "outputs": [],
   "source": [
    "import requests\n",
    "import math\n",
    "import numpy as np\n",
    "from bs4 import BeautifulSoup as bs"
   ]
  },
  {
   "cell_type": "code",
   "execution_count": 2,
   "id": "b46b2114",
   "metadata": {},
   "outputs": [],
   "source": [
    "elo_ratings_url = \"http://elofootball.com/\"\n",
    "elo_ratings_page = requests.get(elo_ratings_url)"
   ]
  },
  {
   "cell_type": "code",
   "execution_count": 3,
   "id": "8c8db49f",
   "metadata": {},
   "outputs": [
    {
     "name": "stdout",
     "output_type": "stream",
     "text": [
      "HTML parsed succesfully.\n"
     ]
    }
   ],
   "source": [
    "if elo_ratings_page:\n",
    "    page_parsed = bs(elo_ratings_page.text, 'html.parser')\n",
    "    print(\"HTML parsed succesfully.\")\n",
    "else:\n",
    "    print(\"Could not parse the HTML.\")"
   ]
  },
  {
   "cell_type": "code",
   "execution_count": 4,
   "id": "9705c827",
   "metadata": {},
   "outputs": [
    {
     "name": "stdout",
     "output_type": "stream",
     "text": [
      "Total tr tags in the HTML: 2366\n"
     ]
    }
   ],
   "source": [
    "all_trs = page_parsed.find_all(\"tr\")\n",
    "print(\"Total tr tags in the HTML:\", len(all_trs))"
   ]
  },
  {
   "cell_type": "code",
   "execution_count": 5,
   "id": "4d80f175",
   "metadata": {},
   "outputs": [
    {
     "name": "stdout",
     "output_type": "stream",
     "text": [
      "Total teams: 50\n"
     ]
    }
   ],
   "source": [
    "teams = {}\n",
    "\n",
    "# Since we cannot identify the table correctly, let's find the tr tags with the correct amount of td tags\n",
    "for tr in all_trs:\n",
    "    all_tds = tr.find_all(\"td\")\n",
    "    \n",
    "    if all_tds and len(all_tds) == 18:\n",
    "        teams[all_tds[1].text.strip()] = int(all_tds[8].text)\n",
    "        \n",
    "print(\"Total teams:\", len(teams))"
   ]
  },
  {
   "cell_type": "code",
   "execution_count": 20,
   "id": "81036ab6",
   "metadata": {},
   "outputs": [
    {
     "name": "stdout",
     "output_type": "stream",
     "text": [
      "Quarter finals teams:\n",
      "\n",
      "Atlético Madrid - 2155\n",
      "Borussia Dortmund - 2177\n",
      "Paris Saint-Germain - 2214\n",
      "FC Barcelona - 2176\n",
      "Arsenal FC - 2241\n",
      "Bayern München - 2234\n",
      "Real Madrid - 2324\n",
      "Manchester City - 2398\n"
     ]
    }
   ],
   "source": [
    "knockout_games = [\n",
    "    [\n",
    "        \"Atlético Madrid\",\n",
    "        \"Borussia Dortmund\",\n",
    "    ],\n",
    "    [\n",
    "        \"Paris Saint-Germain\",\n",
    "        \"FC Barcelona\",\n",
    "    ],\n",
    "    [\n",
    "        \"Arsenal FC\",\n",
    "        \"Bayern München\",\n",
    "    ],\n",
    "    [\n",
    "        \"Real Madrid\",\n",
    "        \"Manchester City\",\n",
    "    ],\n",
    "]\n",
    "\n",
    "print(\"Quarter finals teams:\\n\")\n",
    "\n",
    "for game in knockout_games:\n",
    "    for team in game:\n",
    "        print(f\"{team} - {teams[team]}\")"
   ]
  },
  {
   "cell_type": "code",
   "execution_count": 21,
   "id": "d834e1b3",
   "metadata": {},
   "outputs": [
    {
     "name": "stdout",
     "output_type": "stream",
     "text": [
      "\n",
      "QUARTER FINALS\n",
      "\n",
      "Atlético Madrid (2155) won 46 of 101 simulations (0.46%)\n",
      "Borussia Dortmund (2177) won 55 of 101 simulations (0.54%)\n",
      "RESULT: Borussia Dortmund wins.\n",
      "\n",
      "Paris Saint-Germain (2214) won 51 of 101 simulations (0.5%)\n",
      "FC Barcelona (2176) won 50 of 101 simulations (0.5%)\n",
      "RESULT: Paris Saint-Germain wins.\n",
      "\n",
      "Arsenal FC (2241) won 46 of 101 simulations (0.46%)\n",
      "Bayern München (2234) won 55 of 101 simulations (0.54%)\n",
      "RESULT: Bayern München wins.\n",
      "\n",
      "Real Madrid (2324) won 31 of 101 simulations (0.31%)\n",
      "Manchester City (2398) won 70 of 101 simulations (0.69%)\n",
      "RESULT: Manchester City wins.\n",
      "\n",
      "SEMI FINALS\n",
      "\n",
      "Borussia Dortmund (2177) won 51 of 101 simulations (0.5%)\n",
      "Paris Saint-Germain (2214) won 50 of 101 simulations (0.5%)\n",
      "RESULT: Borussia Dortmund wins.\n",
      "\n",
      "Bayern München (2234) won 22 of 101 simulations (0.22%)\n",
      "Manchester City (2398) won 79 of 101 simulations (0.78%)\n",
      "RESULT: Manchester City wins.\n",
      "\n",
      "FINAL\n",
      "\n",
      "Borussia Dortmund (2177) won 22 of 101 simulations (0.22%)\n",
      "Manchester City (2398) won 79 of 101 simulations (0.78%)\n",
      "RESULT: Manchester City wins.\n"
     ]
    }
   ],
   "source": [
    "def get_winning_probability(elo_a, elo_b):\n",
    "    # ELO difference\n",
    "    delta_elo = elo_b - elo_a\n",
    "    \n",
    "    # Using a logistic function to convert the Team A winning probabilites\n",
    "    proba_a = 1 / (1 + math.pow(10, delta_elo / 400))\n",
    "    \n",
    "    return proba_a\n",
    "\n",
    "def simulate_game(proba_a):\n",
    "    if np.random.rand() < proba_a:\n",
    "        return 'A'  # Team A wins\n",
    "    else:\n",
    "        return 'B'  # Team B wins\n",
    "    \n",
    "def monte_carlo_simulation(team_a, team_b, num_simulations):\n",
    "    team_a_wins = 0\n",
    "    team_b_wins = 0\n",
    "    \n",
    "    # Probability based simply on the ELO rating\n",
    "    elo_proba_a = get_winning_probability(team_a['elo'], team_b['elo'])\n",
    "    \n",
    "    for _ in range(num_simulations):\n",
    "        simulation_result = simulate_game(elo_proba_a)\n",
    "        if simulation_result == 'A':\n",
    "            team_a_wins += 1\n",
    "        else:\n",
    "            team_b_wins += 1\n",
    "           \n",
    "    # Probability based on the simulations\n",
    "    simulation_proba_a = team_a_wins / num_simulations\n",
    "    simulation_proba_b = team_b_wins / num_simulations\n",
    "    \n",
    "    print(f\"\\n{team_a['team']} ({team_a['elo']}) won {team_a_wins} of {num_simulations} simulations ({round(simulation_proba_a, 2)}%)\")\n",
    "    print(f\"{team_b['team']} ({team_b['elo']}) won {team_b_wins} of {num_simulations} simulations ({round(simulation_proba_b, 2)}%)\")\n",
    "    \n",
    "    if simulation_proba_a > simulation_proba_b:\n",
    "        predicted_winner = team_a['team']\n",
    "    else:\n",
    "        predicted_winner = team_b['team']\n",
    "    \n",
    "    print(f\"RESULT: {predicted_winner} wins.\")\n",
    "    \n",
    "    return predicted_winner\n",
    "    \n",
    "def simulate_stage(games, num_simulations):\n",
    "    next_stage = []\n",
    "    \n",
    "    for game in games:\n",
    "        winner = monte_carlo_simulation(\n",
    "            {\n",
    "                'team': game[0],\n",
    "                'elo': teams[game[0]]\n",
    "            }, \n",
    "            {\n",
    "                'team': game[1],\n",
    "                'elo': teams[game[1]]\n",
    "            },\n",
    "            num_simulations\n",
    "        )\n",
    "        \n",
    "        if next_stage and len(next_stage[-1]) < 2:\n",
    "            next_stage[-1].append(winner)\n",
    "        else:\n",
    "            next_stage.append([winner])\n",
    "            \n",
    "    return next_stage\n",
    "        \n",
    "while len(knockout_games) > 0 and len(knockout_games[0]) > 1:\n",
    "    if len(knockout_games) == 4:\n",
    "        print(\"\\nQUARTER FINALS\")\n",
    "    elif len(knockout_games) == 2:\n",
    "        print(\"\\nSEMI FINALS\")\n",
    "    else:\n",
    "        print(\"\\nFINAL\")\n",
    "        \n",
    "    knockout_games = simulate_stage(knockout_games, 101)"
   ]
  },
  {
   "cell_type": "code",
   "execution_count": null,
   "id": "24b137ea",
   "metadata": {},
   "outputs": [],
   "source": []
  }
 ],
 "metadata": {
  "kernelspec": {
   "display_name": "Python 3 (ipykernel)",
   "language": "python",
   "name": "python3"
  },
  "language_info": {
   "codemirror_mode": {
    "name": "ipython",
    "version": 3
   },
   "file_extension": ".py",
   "mimetype": "text/x-python",
   "name": "python",
   "nbconvert_exporter": "python",
   "pygments_lexer": "ipython3",
   "version": "3.9.12"
  }
 },
 "nbformat": 4,
 "nbformat_minor": 5
}
