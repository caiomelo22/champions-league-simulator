{
 "cells": [
  {
   "cell_type": "code",
   "execution_count": 1,
   "id": "c97aa991",
   "metadata": {},
   "outputs": [],
   "source": [
    "import requests\n",
    "import math\n",
    "import numpy as np\n",
    "import pandas as pd\n",
    "from bs4 import BeautifulSoup as bs"
   ]
  },
  {
   "cell_type": "code",
   "execution_count": 2,
   "id": "b46b2114",
   "metadata": {},
   "outputs": [],
   "source": [
    "elo_ratings_url = \"http://elofootball.com/\"\n",
    "elo_ratings_page = requests.get(elo_ratings_url)"
   ]
  },
  {
   "cell_type": "code",
   "execution_count": 3,
   "id": "8c8db49f",
   "metadata": {},
   "outputs": [
    {
     "name": "stdout",
     "output_type": "stream",
     "text": [
      "HTML parsed succesfully.\n"
     ]
    }
   ],
   "source": [
    "if elo_ratings_page:\n",
    "    page_parsed = bs(elo_ratings_page.text, 'html.parser')\n",
    "    print(\"HTML parsed succesfully.\")\n",
    "else:\n",
    "    print(\"Could not parse the HTML.\")"
   ]
  },
  {
   "cell_type": "code",
   "execution_count": 4,
   "id": "9705c827",
   "metadata": {},
   "outputs": [
    {
     "name": "stdout",
     "output_type": "stream",
     "text": [
      "Total tr tags in the HTML: 2025\n"
     ]
    }
   ],
   "source": [
    "all_trs = page_parsed.find_all(\"tr\")\n",
    "print(\"Total tr tags in the HTML:\", len(all_trs))"
   ]
  },
  {
   "cell_type": "code",
   "execution_count": 5,
   "id": "4d80f175",
   "metadata": {},
   "outputs": [
    {
     "name": "stdout",
     "output_type": "stream",
     "text": [
      "Total teams: 50\n"
     ]
    }
   ],
   "source": [
    "teams = {}\n",
    "\n",
    "# Since we cannot identify the table correctly, let's find the tr tags with the correct amount of td tags\n",
    "for tr in all_trs:\n",
    "    all_tds = tr.find_all(\"td\")\n",
    "    \n",
    "    if all_tds and len(all_tds) == 18:\n",
    "        teams[all_tds[1].text.strip()] = int(all_tds[8].text)\n",
    "        \n",
    "print(\"Total teams:\", len(teams))"
   ]
  },
  {
   "cell_type": "code",
   "execution_count": 10,
   "id": "81036ab6",
   "metadata": {},
   "outputs": [
    {
     "name": "stdout",
     "output_type": "stream",
     "text": [
      "Quarter finals power ranking by ELO ratings:\n"
     ]
    },
    {
     "data": {
      "text/html": [
       "<div>\n",
       "<style scoped>\n",
       "    .dataframe tbody tr th:only-of-type {\n",
       "        vertical-align: middle;\n",
       "    }\n",
       "\n",
       "    .dataframe tbody tr th {\n",
       "        vertical-align: top;\n",
       "    }\n",
       "\n",
       "    .dataframe thead th {\n",
       "        text-align: right;\n",
       "    }\n",
       "</style>\n",
       "<table border=\"1\" class=\"dataframe\">\n",
       "  <thead>\n",
       "    <tr style=\"text-align: right;\">\n",
       "      <th></th>\n",
       "      <th>Team</th>\n",
       "      <th>ELO Rating</th>\n",
       "    </tr>\n",
       "  </thead>\n",
       "  <tbody>\n",
       "    <tr>\n",
       "      <th>0</th>\n",
       "      <td>Manchester City</td>\n",
       "      <td>2400</td>\n",
       "    </tr>\n",
       "    <tr>\n",
       "      <th>1</th>\n",
       "      <td>Real Madrid</td>\n",
       "      <td>2329</td>\n",
       "    </tr>\n",
       "    <tr>\n",
       "      <th>2</th>\n",
       "      <td>Arsenal FC</td>\n",
       "      <td>2241</td>\n",
       "    </tr>\n",
       "    <tr>\n",
       "      <th>3</th>\n",
       "      <td>Bayern München</td>\n",
       "      <td>2237</td>\n",
       "    </tr>\n",
       "    <tr>\n",
       "      <th>4</th>\n",
       "      <td>Paris Saint-Germain</td>\n",
       "      <td>2221</td>\n",
       "    </tr>\n",
       "    <tr>\n",
       "      <th>5</th>\n",
       "      <td>FC Barcelona</td>\n",
       "      <td>2197</td>\n",
       "    </tr>\n",
       "    <tr>\n",
       "      <th>6</th>\n",
       "      <td>Borussia Dortmund</td>\n",
       "      <td>2182</td>\n",
       "    </tr>\n",
       "    <tr>\n",
       "      <th>7</th>\n",
       "      <td>Atlético Madrid</td>\n",
       "      <td>2134</td>\n",
       "    </tr>\n",
       "  </tbody>\n",
       "</table>\n",
       "</div>"
      ],
      "text/plain": [
       "                  Team  ELO Rating\n",
       "0      Manchester City        2400\n",
       "1          Real Madrid        2329\n",
       "2           Arsenal FC        2241\n",
       "3       Bayern München        2237\n",
       "4  Paris Saint-Germain        2221\n",
       "5         FC Barcelona        2197\n",
       "6    Borussia Dortmund        2182\n",
       "7      Atlético Madrid        2134"
      ]
     },
     "metadata": {},
     "output_type": "display_data"
    }
   ],
   "source": [
    "knockout_games = [\n",
    "    [\n",
    "        \"Atlético Madrid\",\n",
    "        \"Borussia Dortmund\",\n",
    "    ],\n",
    "    [\n",
    "        \"Paris Saint-Germain\",\n",
    "        \"FC Barcelona\",\n",
    "    ],\n",
    "    [\n",
    "        \"Arsenal FC\",\n",
    "        \"Bayern München\",\n",
    "    ],\n",
    "    [\n",
    "        \"Real Madrid\",\n",
    "        \"Manchester City\",\n",
    "    ],\n",
    "]\n",
    "\n",
    "print(\"Quarter finals power ranking by ELO ratings:\")\n",
    "\n",
    "columns = ['Team', 'ELO Rating']\n",
    "\n",
    "data = []\n",
    "\n",
    "for game in knockout_games:\n",
    "    for team in game:\n",
    "        data.append([team, teams[team]])\n",
    "        \n",
    "teams_df = pd.DataFrame(data, columns=columns).sort_values(by='ELO Rating', ascending=False).reset_index(drop=True)\n",
    "display(teams_df)"
   ]
  },
  {
   "cell_type": "code",
   "execution_count": 11,
   "id": "d834e1b3",
   "metadata": {},
   "outputs": [
    {
     "name": "stdout",
     "output_type": "stream",
     "text": [
      "\n",
      "QUARTER FINALS\n",
      "\n",
      "Atlético Madrid (2134) won 36 out of 101 simulations (0.36%)\n",
      "Borussia Dortmund (2182) won 65 out of 101 simulations (0.64%)\n",
      "RESULT: Borussia Dortmund wins.\n",
      "\n",
      "Paris Saint-Germain (2221) won 50 out of 101 simulations (0.5%)\n",
      "FC Barcelona (2197) won 51 out of 101 simulations (0.5%)\n",
      "RESULT: FC Barcelona wins.\n",
      "\n",
      "Arsenal FC (2241) won 53 out of 101 simulations (0.52%)\n",
      "Bayern München (2237) won 48 out of 101 simulations (0.48%)\n",
      "RESULT: Arsenal FC wins.\n",
      "\n",
      "Real Madrid (2329) won 47 out of 101 simulations (0.47%)\n",
      "Manchester City (2400) won 54 out of 101 simulations (0.53%)\n",
      "RESULT: Manchester City wins.\n",
      "\n",
      "SEMI FINALS\n",
      "\n",
      "Borussia Dortmund (2182) won 62 out of 101 simulations (0.61%)\n",
      "FC Barcelona (2197) won 39 out of 101 simulations (0.39%)\n",
      "RESULT: Borussia Dortmund wins.\n",
      "\n",
      "Arsenal FC (2241) won 34 out of 101 simulations (0.34%)\n",
      "Manchester City (2400) won 67 out of 101 simulations (0.66%)\n",
      "RESULT: Manchester City wins.\n",
      "\n",
      "FINAL\n",
      "\n",
      "Borussia Dortmund (2182) won 32 out of 101 simulations (0.32%)\n",
      "Manchester City (2400) won 69 out of 101 simulations (0.68%)\n",
      "RESULT: Manchester City wins.\n"
     ]
    }
   ],
   "source": [
    "def get_winning_probability(elo_a, elo_b):\n",
    "    # ELO difference\n",
    "    delta_elo = elo_b - elo_a\n",
    "    \n",
    "    # Using a logistic function to convert the Team A winning probabilites\n",
    "    proba_a = 1 / (1 + math.pow(10, delta_elo / 400))\n",
    "    \n",
    "    return proba_a\n",
    "\n",
    "def simulate_game(proba_a):\n",
    "    if np.random.rand() < proba_a:\n",
    "        return 'A'  # Team A wins\n",
    "    else:\n",
    "        return 'B'  # Team B wins\n",
    "    \n",
    "def monte_carlo_simulation(team_a, team_b, num_simulations):\n",
    "    team_a_wins = 0\n",
    "    team_b_wins = 0\n",
    "    \n",
    "    # Probability based simply on the ELO rating\n",
    "    elo_proba_a = get_winning_probability(team_a['elo'], team_b['elo'])\n",
    "    \n",
    "    for _ in range(num_simulations):\n",
    "        simulation_result = simulate_game(elo_proba_a)\n",
    "        if simulation_result == 'A':\n",
    "            team_a_wins += 1\n",
    "        else:\n",
    "            team_b_wins += 1\n",
    "           \n",
    "    # Probability based on the simulations\n",
    "    simulation_proba_a = team_a_wins / num_simulations\n",
    "    simulation_proba_b = team_b_wins / num_simulations\n",
    "    \n",
    "    print(f\"\\n{team_a['team']} ({team_a['elo']}) won {team_a_wins} out of {num_simulations} simulations ({round(simulation_proba_a, 2)}%)\")\n",
    "    print(f\"{team_b['team']} ({team_b['elo']}) won {team_b_wins} out of {num_simulations} simulations ({round(simulation_proba_b, 2)}%)\")\n",
    "    \n",
    "    if simulation_proba_a > simulation_proba_b:\n",
    "        predicted_winner = team_a['team']\n",
    "    else:\n",
    "        predicted_winner = team_b['team']\n",
    "    \n",
    "    print(f\"RESULT: {predicted_winner} wins.\")\n",
    "    \n",
    "    return predicted_winner\n",
    "    \n",
    "def simulate_stage(games, num_simulations):\n",
    "    next_stage = []\n",
    "    \n",
    "    for game in games:\n",
    "        winner = monte_carlo_simulation(\n",
    "            {\n",
    "                'team': game[0],\n",
    "                'elo': teams[game[0]]\n",
    "            }, \n",
    "            {\n",
    "                'team': game[1],\n",
    "                'elo': teams[game[1]]\n",
    "            },\n",
    "            num_simulations\n",
    "        )\n",
    "        \n",
    "        if next_stage and len(next_stage[-1]) < 2:\n",
    "            next_stage[-1].append(winner)\n",
    "        else:\n",
    "            next_stage.append([winner])\n",
    "            \n",
    "    return next_stage\n",
    "        \n",
    "while len(knockout_games) > 0 and len(knockout_games[0]) > 1:\n",
    "    if len(knockout_games) == 4:\n",
    "        print(\"\\nQUARTER FINALS\")\n",
    "    elif len(knockout_games) == 2:\n",
    "        print(\"\\nSEMI FINALS\")\n",
    "    else:\n",
    "        print(\"\\nFINAL\")\n",
    "        \n",
    "    knockout_games = simulate_stage(knockout_games, 101)"
   ]
  },
  {
   "cell_type": "code",
   "execution_count": null,
   "id": "24b137ea",
   "metadata": {},
   "outputs": [],
   "source": []
  }
 ],
 "metadata": {
  "kernelspec": {
   "display_name": "Python 3 (ipykernel)",
   "language": "python",
   "name": "python3"
  },
  "language_info": {
   "codemirror_mode": {
    "name": "ipython",
    "version": 3
   },
   "file_extension": ".py",
   "mimetype": "text/x-python",
   "name": "python",
   "nbconvert_exporter": "python",
   "pygments_lexer": "ipython3",
   "version": "3.9.12"
  }
 },
 "nbformat": 4,
 "nbformat_minor": 5
}
